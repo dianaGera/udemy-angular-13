{
 "cells": [
  {
   "cell_type": "markdown",
   "id": "62c716bf",
   "metadata": {},
   "source": [
    "<h2>ngModel</h2>\n"
   ]
  },
  {
   "cell_type": "markdown",
   "id": "d92e58e9",
   "metadata": {},
   "source": [
    "<h2>ngModel</h2>\n",
    "<p>The FormControl instance tracks the value, user interaction, and validation status of the control and keeps the view synced with the model.</p>\n",
    "<p>It accepts a domain model as an optional Input. If you have a one-way binding to ngModel with [] syntax, changing the domain model's value in the component class sets the value in the view. If you have a two-way binding with [()] syntax (also known as 'banana-in-a-box syntax'), the value in the UI always syncs back to the domain model in your class.</p>\n",
    "\n",
    "<pre>\n",
    "    <code>\n",
    "    export class AppComponent {\n",
    "      title = 'udemy-angular-13';\n",
    "\n",
    "      name: string = '';\n",
    "\n",
    "      setValue() {\n",
    "        this.name = 'Nancy';\n",
    "      }\n",
    "    }\n",
    "        </code>\n",
    "</pre>\n",
    "\n",
    "<input [(ngModel)]=\"name\" #ctrl=\"ngModel\" required>\n",
    "\n",
    "  <p>Value: {{ name }}</p>\n",
    "  <p>Valid: {{ ctrl.valid }}</p>\n",
    "\n",
    "  <button (click)=\"setValue()\">Set value</button>"
   ]
  },
  {
   "cell_type": "markdown",
   "id": "bff4e57c",
   "metadata": {
    "scrolled": true
   },
   "source": [
    "<h2>ngModel</h2>"
   ]
  },
  {
   "cell_type": "markdown",
   "id": "b846ff88",
   "metadata": {
    "scrolled": true
   },
   "source": [
    "xz<h2>ngModel</h2>"
   ]
  },
  {
   "cell_type": "markdown",
   "id": "b3ac4b27",
   "metadata": {},
   "source": []
  },
  {
   "cell_type": "markdown",
   "id": "e036bbf7",
   "metadata": {},
   "source": []
  }
 ],
 "metadata": {
  "kernelspec": {
   "display_name": "Python 3 (ipykernel)",
   "language": "python",
   "name": "python3"
  },
  "language_info": {
   "codemirror_mode": {
    "name": "ipython",
    "version": 3
   },
   "file_extension": ".py",
   "mimetype": "text/x-python",
   "name": "python",
   "nbconvert_exporter": "python",
   "pygments_lexer": "ipython3",
   "version": "3.9.12"
  }
 },
 "nbformat": 4,
 "nbformat_minor": 5
}
