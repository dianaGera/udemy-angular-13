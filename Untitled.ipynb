{
 "cells": [
  {
   "cell_type": "markdown",
   "id": "80795e38",
   "metadata": {},
   "source": [
    "<h2>ngModel</h2>\n"
   ]
  },
  {
   "cell_type": "markdown",
   "id": "62abfdbe",
   "metadata": {},
   "source": [
    "<h2>ngModel</h2>\n",
    "<p>The FormControl instance tracks the value, user interaction, and validation status of the control and keeps the view synced with the model.</p>\n",
    "<p>It accepts a domain model as an optional Input. If you have a one-way binding to ngModel with [] syntax, changing the domain model's value in the component class sets the value in the view. If you have a two-way binding with [()] syntax (also known as 'banana-in-a-box syntax'), the value in the UI always syncs back to the domain model in your class.</p>\n",
    "\n",
    "<pre>\n",
    "    <code>\n",
    "    export class AppComponent {\n",
    "      name: string = '';\n",
    "\n",
    "      setValue() {\n",
    "        this.name = 'Nancy';\n",
    "      }\n",
    "    }\n",
    "        </code>\n",
    "</pre>\n",
    "\n",
    "<input [(ngModel)]=\"name\" #ctrl=\"ngModel\" required><br><br>\n",
    "<code><input [(ngModel)]=\"name\" #ctrl=\"ngModel\" required></code>\n",
    "\n",
    "  <p>Value: {{ name }}</p> // dynamic\n",
    "  <p>Valid: {{ ctrl.valid }}</p>  // look if input is valid\n",
    "\n",
    "  <button (click)=\"setValue()\">Set value</button>  // set value after click\n",
    "\n",
    "\n",
    "<h3>Using ngModel within a form</h3>\n",
    "\n",
    "<pre>\n",
    "    <code>\n",
    "    \n",
    "    import {Component} from '@angular/core';\n",
    "    import {NgForm} from '@angular/forms';\n",
    "\n",
    "    @Component({\n",
    "      selector: 'example-app',\n",
    "      template: `\n",
    "        &ltform #f=\"ngForm\" (ngSubmit)=\"onSubmit(f)\" novalidate>\n",
    "          &ltinput name=\"first\" ngModel required #first=\"ngModel\">\n",
    "          &ltinput name=\"last\" ngModel>\n",
    "          &ltbutton>Submit</button>\n",
    "        &lt/form>\n",
    "\n",
    "        &ltp>First name value: {{ first.value }}&lt/p>\n",
    "        &ltp>First name valid: {{ first.valid }}&lt/p>\n",
    "        &ltp>Form value: {{ f.value | json }}&lt/p>\n",
    "        &ltp>Form valid: {{ f.valid }}&ltp/p>\n",
    "      `,\n",
    "    })\n",
    "    export class SimpleFormComp {\n",
    "      onSubmit(f: NgForm) {\n",
    "        console.log(f.value);  // { first: '', last: '' }\n",
    "        console.log(f.valid);  // false\n",
    "      }\n",
    "    }\n",
    "        </code>\n",
    "</pre>"
   ]
  },
  {
   "cell_type": "markdown",
   "id": "0a030628",
   "metadata": {
    "scrolled": true
   },
   "source": [
    "<h2>ngModel</h2>"
   ]
  },
  {
   "cell_type": "markdown",
   "id": "5c78d903",
   "metadata": {
    "scrolled": true
   },
   "source": [
    "xz<h2>ngModel</h2>"
   ]
  },
  {
   "cell_type": "markdown",
   "id": "7e11784b",
   "metadata": {},
   "source": []
  },
  {
   "cell_type": "markdown",
   "id": "36435de9",
   "metadata": {},
   "source": []
  }
 ],
 "metadata": {
  "kernelspec": {
   "display_name": "Python 3 (ipykernel)",
   "language": "python",
   "name": "python3"
  },
  "language_info": {
   "codemirror_mode": {
    "name": "ipython",
    "version": 3
   },
   "file_extension": ".py",
   "mimetype": "text/x-python",
   "name": "python",
   "nbconvert_exporter": "python",
   "pygments_lexer": "ipython3",
   "version": "3.9.12"
  }
 },
 "nbformat": 4,
 "nbformat_minor": 5
}
